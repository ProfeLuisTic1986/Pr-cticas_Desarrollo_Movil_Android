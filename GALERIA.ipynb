{
  "nbformat": 4,
  "nbformat_minor": 0,
  "metadata": {
    "colab": {
      "provenance": [],
      "authorship_tag": "ABX9TyPklf7vQ9FITNQfhhudSpw1",
      "include_colab_link": true
    },
    "kernelspec": {
      "name": "python3",
      "display_name": "Python 3"
    },
    "language_info": {
      "name": "python"
    }
  },
  "cells": [
    {
      "cell_type": "markdown",
      "metadata": {
        "id": "view-in-github",
        "colab_type": "text"
      },
      "source": [
        "<a href=\"https://colab.research.google.com/github/ProfeLuisTic1986/Pr-cticas_Desarrollo_Movil_Android/blob/main/GALERIA.ipynb\" target=\"_parent\"><img src=\"https://colab.research.google.com/assets/colab-badge.svg\" alt=\"Open In Colab\"/></a>"
      ]
    },
    {
      "cell_type": "code",
      "execution_count": null,
      "metadata": {
        "id": "RHfO3RsiX_68"
      },
      "outputs": [],
      "source": [
        "import flet as ft\n",
        "\n",
        "def main(page: ft.Page):\n",
        "    page.title=\"Galleria\"\n",
        "    page.bgcolor=ft.Colors.BLACK45\n",
        "    pinturas = [\n",
        "        {\n",
        "            \"titulo\": \"La Gioconda\",\n",
        "            \"autor\": \"Leonardo da Vinci\",\n",
        "            \"año\": 1503,\n",
        "            \"descripcion\": \"También conocida como Mona Lisa. Es una de las obras más famosas del Renacimiento.\",\n",
        "            \"imagen\": \"https://raw.githubusercontent.com/Prof-Luis1986/Recursos-Proyecto-BIMESTRAL/1c89004edecd34119d8ff4f0b303641b34cbf4ca/gioconda.jpg\"\n",
        "        },\n",
        "        {\n",
        "            \"titulo\": \"La noche estrellada\",\n",
        "            \"autor\": \"Vincent van Gogh\",\n",
        "            \"año\": 1889,\n",
        "            \"descripcion\": \"Una de las obras más famosas del postimpresionismo, pintada por Van Gogh durante su estancia en Saint-Rémy-de-Provence.\",\n",
        "            \"imagen\": \"https://raw.githubusercontent.com/Prof-Luis1986/Recursos-Proyecto-BIMESTRAL/refs/heads/main/Noche_Estrellada.jpg\"\n",
        "        },\n",
        "        {\n",
        "            \"titulo\": \"La persistencia de la memoria\",\n",
        "            \"autor\": \"Salvador Dalí\",\n",
        "            \"año\":1931,\n",
        "            \"descripcion\": \"La persistencia de la memoria, es una icónica obra surrealista de 1931 del pintor Salvador Dalí, famosa por sus relojes derretidos en un paisaje desolado. \",\n",
        "            \"imagen\": \"https://raw.githubusercontent.com/Prof-Luis1986/Recursos-Proyecto-BIMESTRAL/refs/heads/main/persistencia.jpg\"\n",
        "        }\n",
        "    ]\n",
        "\n",
        "    indice_actual = [0]\n",
        "\n",
        "    contenedor = ft.Container(\n",
        "        content=ft.Column([]),\n",
        "        width=400,\n",
        "        height=500,\n",
        "        bgcolor=ft.Colors.BLUE_400,\n",
        "        alignment=ft.alignment.center,\n",
        "        padding=20\n",
        "    )\n",
        "\n",
        "    boton_siguiente = ft.ElevatedButton(text=\"Siguiente pintura\")\n",
        "\n",
        "    def mostrar_pintura():\n",
        "        pintura = pinturas[indice_actual[0]]\n",
        "        contenedor.content = ft.Column([\n",
        "            ft.Image(src=pintura[\"imagen\"], width=300, height=300, fit=ft.ImageFit.CONTAIN),\n",
        "            ft.Text(pintura[\"titulo\"], size=20, weight=ft.FontWeight.BOLD),\n",
        "            ft.Text(f\"Autor: {pintura['autor']}\", size=16),\n",
        "            ft.Text(f\"Año: {pintura['año']}\", size=16),\n",
        "            ft.Text(pintura[\"descripcion\"], size=14, italic=True)\n",
        "        ], alignment=ft.MainAxisAlignment.CENTER)\n",
        "        if indice_actual[0] == len(pinturas) - 1:\n",
        "            boton_siguiente.text = \"Volver al inicio\"\n",
        "        else:\n",
        "            boton_siguiente.text = \"Siguiente pintura\"\n",
        "        page.update()\n",
        "\n",
        "    def siguiente_click(e):\n",
        "        indice_actual[0] = (indice_actual[0] + 1) % len(pinturas)\n",
        "        mostrar_pintura()\n",
        "\n",
        "    boton_siguiente.on_click = siguiente_click\n",
        "\n",
        "    # Aquí centramos todo vertical y horizontalmente\n",
        "    page.add(\n",
        "        ft.Container(\n",
        "            content=ft.Column(\n",
        "                [\n",
        "                    contenedor,\n",
        "                    boton_siguiente\n",
        "                ],\n",
        "                alignment=ft.MainAxisAlignment.CENTER,\n",
        "                horizontal_alignment=ft.CrossAxisAlignment.CENTER,\n",
        "                spacing=20\n",
        "            ),\n",
        "            alignment=ft.alignment.center,\n",
        "            expand=True  # Hace que el contenedor ocupe toda la pantalla\n",
        "        )\n",
        "    )\n",
        "\n",
        "    mostrar_pintura()\n",
        "\n",
        "ft.app(target=main)"
      ]
    }
  ]
}